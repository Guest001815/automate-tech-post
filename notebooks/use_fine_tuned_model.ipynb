{
 "cells": [
  {
   "cell_type": "code",
   "execution_count": null,
   "metadata": {},
   "outputs": [],
   "source": [
    "!pip install transformers\n",
    "!pip install -q git+https://github.com/huggingface/peft.git "
   ]
  },
  {
   "cell_type": "code",
   "execution_count": null,
   "metadata": {},
   "outputs": [],
   "source": [
    "import torch\n",
    "from peft import PeftModel, PeftConfig\n",
    "from transformers import AutoModelForCausalLM, AutoTokenizer\n",
    "from IPython.display import display, Markdown\n",
    "\n",
    "def make_inference(topic):\n",
    "  batch = tokenizer(f\"### INSTRUCTION\\nBelow summary for a blog post, \\\n",
    "                    please write a social media post\\\n",
    "                    \\n\\n### Topic:\\n{topic}\\n### Social media post:\\n\", return_tensors='pt')\n",
    "\n",
    "  with torch.cuda.amp.autocast():\n",
    "    output_tokens = model.generate(**batch, max_new_tokens=200)\n",
    "\n",
    "  display(Markdown((tokenizer.decode(output_tokens[0], skip_special_tokens=True))))\n",
    "\n",
    "if __name__==\"__main__\":\n",
    "\n",
    "  # Set up user name and model name\n",
    "  hf_username = \"lgfunderburk\"\n",
    "  model_name = 'numpy-social-media-post'\n",
    "  peft_model_id = f\"{hf_username}/{model_name}\"\n",
    "\n",
    "  # Apply PETF configuration, setup model and autotokenizer\n",
    "  config = PeftConfig.from_pretrained(peft_model_id)\n",
    "  model = AutoModelForCausalLM.from_pretrained(config.base_model_name_or_path, return_dict=True, load_in_8bit=False, device_map='auto')\n",
    "  tokenizer = AutoTokenizer.from_pretrained(config.base_model_name_or_path)\n",
    "  \n",
    "  # Load the Lora model\n",
    "  model = PeftModel.from_pretrained(model, peft_model_id)\n",
    "\n",
    "  # Summary to generate a social media post about\n",
    "  topic = \"This blog post is a tutorial about using NumPy to solve static equilibrium problems \\\n",
    "          in three-dimensional space. Readers will learn how to represent points, vectors, and \\\n",
    "          moments with NumPy, find the normal of vectors, and use NumPy for matrix calculations. \\\n",
    "          The tutorial covers the application of Newton's second law to simple examples of force\\\n",
    "          vectors and introduces more complex cases involving reaction forces and moments. \\\n",
    "          The post also discusses the use of NumPy functions in more varied problems, including\\\n",
    "            kinetic problems and different dimensions.\"\n",
    "  \n",
    "  # Generate social media post\n",
    "  make_inference(topic)"
   ]
  }
 ],
 "metadata": {
  "language_info": {
   "name": "python"
  },
  "orig_nbformat": 4
 },
 "nbformat": 4,
 "nbformat_minor": 2
}
